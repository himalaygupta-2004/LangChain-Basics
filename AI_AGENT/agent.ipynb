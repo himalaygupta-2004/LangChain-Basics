{
 "cells": [
  {
   "cell_type": "code",
   "execution_count": 4,
   "id": "efd4ee58",
   "metadata": {},
   "outputs": [
    {
     "name": "stderr",
     "output_type": "stream",
     "text": [
      "d:\\LangChain\\venv\\Lib\\site-packages\\tqdm\\auto.py:21: TqdmWarning: IProgress not found. Please update jupyter and ipywidgets. See https://ipywidgets.readthedocs.io/en/stable/user_install.html\n",
      "  from .autonotebook import tqdm as notebook_tqdm\n"
     ]
    }
   ],
   "source": [
    "from dotenv import load_dotenv\n",
    "import os\n",
    "from langchain_google_genai import ChatGoogleGenerativeAI\n",
    "\n",
    "load_dotenv()\n",
    "\n",
    "api_key = os.getenv(\"API_KEY\")"
   ]
  },
  {
   "cell_type": "code",
   "execution_count": 5,
   "id": "1131d071",
   "metadata": {},
   "outputs": [],
   "source": [
    "from langchain_core.tools import tool\n",
    "import requests"
   ]
  },
  {
   "cell_type": "code",
   "execution_count": 6,
   "id": "438c02da",
   "metadata": {},
   "outputs": [
    {
     "name": "stdout",
     "output_type": "stream",
     "text": [
      "Requirement already satisfied: langchain_community in d:\\langchain\\venv\\lib\\site-packages (0.3.25)\n",
      "Requirement already satisfied: langchain-core<1.0.0,>=0.3.65 in d:\\langchain\\venv\\lib\\site-packages (from langchain_community) (0.3.65)\n",
      "Requirement already satisfied: langchain<1.0.0,>=0.3.25 in d:\\langchain\\venv\\lib\\site-packages (from langchain_community) (0.3.25)\n",
      "Requirement already satisfied: SQLAlchemy<3,>=1.4 in d:\\langchain\\venv\\lib\\site-packages (from langchain_community) (2.0.40)\n",
      "Requirement already satisfied: requests<3,>=2 in d:\\langchain\\venv\\lib\\site-packages (from langchain_community) (2.32.3)\n",
      "Requirement already satisfied: PyYAML>=5.3 in d:\\langchain\\venv\\lib\\site-packages (from langchain_community) (6.0.2)\n",
      "Requirement already satisfied: aiohttp<4.0.0,>=3.8.3 in d:\\langchain\\venv\\lib\\site-packages (from langchain_community) (3.12.13)\n",
      "Requirement already satisfied: tenacity!=8.4.0,<10,>=8.1.0 in d:\\langchain\\venv\\lib\\site-packages (from langchain_community) (9.1.2)\n",
      "Requirement already satisfied: dataclasses-json<0.7,>=0.5.7 in d:\\langchain\\venv\\lib\\site-packages (from langchain_community) (0.6.7)\n",
      "Requirement already satisfied: pydantic-settings<3.0.0,>=2.4.0 in d:\\langchain\\venv\\lib\\site-packages (from langchain_community) (2.9.1)\n",
      "Requirement already satisfied: langsmith<0.4,>=0.1.125 in d:\\langchain\\venv\\lib\\site-packages (from langchain_community) (0.3.45)\n",
      "Requirement already satisfied: httpx-sse<1.0.0,>=0.4.0 in d:\\langchain\\venv\\lib\\site-packages (from langchain_community) (0.4.0)\n",
      "Requirement already satisfied: numpy>=1.26.2 in d:\\langchain\\venv\\lib\\site-packages (from langchain_community) (2.2.4)\n",
      "Requirement already satisfied: aiohappyeyeballs>=2.5.0 in d:\\langchain\\venv\\lib\\site-packages (from aiohttp<4.0.0,>=3.8.3->langchain_community) (2.6.1)\n",
      "Requirement already satisfied: aiosignal>=1.1.2 in d:\\langchain\\venv\\lib\\site-packages (from aiohttp<4.0.0,>=3.8.3->langchain_community) (1.3.2)\n",
      "Requirement already satisfied: attrs>=17.3.0 in d:\\langchain\\venv\\lib\\site-packages (from aiohttp<4.0.0,>=3.8.3->langchain_community) (25.3.0)\n",
      "Requirement already satisfied: frozenlist>=1.1.1 in d:\\langchain\\venv\\lib\\site-packages (from aiohttp<4.0.0,>=3.8.3->langchain_community) (1.7.0)\n",
      "Requirement already satisfied: multidict<7.0,>=4.5 in d:\\langchain\\venv\\lib\\site-packages (from aiohttp<4.0.0,>=3.8.3->langchain_community) (6.5.0)\n",
      "Requirement already satisfied: propcache>=0.2.0 in d:\\langchain\\venv\\lib\\site-packages (from aiohttp<4.0.0,>=3.8.3->langchain_community) (0.3.2)\n",
      "Requirement already satisfied: yarl<2.0,>=1.17.0 in d:\\langchain\\venv\\lib\\site-packages (from aiohttp<4.0.0,>=3.8.3->langchain_community) (1.20.1)\n",
      "Requirement already satisfied: marshmallow<4.0.0,>=3.18.0 in d:\\langchain\\venv\\lib\\site-packages (from dataclasses-json<0.7,>=0.5.7->langchain_community) (3.26.1)\n",
      "Requirement already satisfied: typing-inspect<1,>=0.4.0 in d:\\langchain\\venv\\lib\\site-packages (from dataclasses-json<0.7,>=0.5.7->langchain_community) (0.9.0)\n",
      "Requirement already satisfied: langchain-text-splitters<1.0.0,>=0.3.8 in d:\\langchain\\venv\\lib\\site-packages (from langchain<1.0.0,>=0.3.25->langchain_community) (0.3.8)\n",
      "Requirement already satisfied: pydantic<3.0.0,>=2.7.4 in d:\\langchain\\venv\\lib\\site-packages (from langchain<1.0.0,>=0.3.25->langchain_community) (2.11.3)\n",
      "Requirement already satisfied: jsonpatch<2.0,>=1.33 in d:\\langchain\\venv\\lib\\site-packages (from langchain-core<1.0.0,>=0.3.65->langchain_community) (1.33)\n",
      "Requirement already satisfied: packaging<25,>=23.2 in d:\\langchain\\venv\\lib\\site-packages (from langchain-core<1.0.0,>=0.3.65->langchain_community) (24.2)\n",
      "Requirement already satisfied: typing-extensions>=4.7 in d:\\langchain\\venv\\lib\\site-packages (from langchain-core<1.0.0,>=0.3.65->langchain_community) (4.13.2)\n",
      "Requirement already satisfied: httpx<1,>=0.23.0 in d:\\langchain\\venv\\lib\\site-packages (from langsmith<0.4,>=0.1.125->langchain_community) (0.28.1)\n",
      "Requirement already satisfied: orjson<4.0.0,>=3.9.14 in d:\\langchain\\venv\\lib\\site-packages (from langsmith<0.4,>=0.1.125->langchain_community) (3.10.16)\n",
      "Requirement already satisfied: requests-toolbelt<2.0.0,>=1.0.0 in d:\\langchain\\venv\\lib\\site-packages (from langsmith<0.4,>=0.1.125->langchain_community) (1.0.0)\n",
      "Requirement already satisfied: zstandard<0.24.0,>=0.23.0 in d:\\langchain\\venv\\lib\\site-packages (from langsmith<0.4,>=0.1.125->langchain_community) (0.23.0)\n",
      "Requirement already satisfied: python-dotenv>=0.21.0 in d:\\langchain\\venv\\lib\\site-packages (from pydantic-settings<3.0.0,>=2.4.0->langchain_community) (1.1.0)\n",
      "Requirement already satisfied: typing-inspection>=0.4.0 in d:\\langchain\\venv\\lib\\site-packages (from pydantic-settings<3.0.0,>=2.4.0->langchain_community) (0.4.0)\n",
      "Requirement already satisfied: charset-normalizer<4,>=2 in d:\\langchain\\venv\\lib\\site-packages (from requests<3,>=2->langchain_community) (3.4.1)\n",
      "Requirement already satisfied: idna<4,>=2.5 in d:\\langchain\\venv\\lib\\site-packages (from requests<3,>=2->langchain_community) (3.10)\n",
      "Requirement already satisfied: urllib3<3,>=1.21.1 in d:\\langchain\\venv\\lib\\site-packages (from requests<3,>=2->langchain_community) (2.4.0)\n",
      "Requirement already satisfied: certifi>=2017.4.17 in d:\\langchain\\venv\\lib\\site-packages (from requests<3,>=2->langchain_community) (2025.1.31)\n",
      "Requirement already satisfied: greenlet>=1 in d:\\langchain\\venv\\lib\\site-packages (from SQLAlchemy<3,>=1.4->langchain_community) (3.2.0)\n",
      "Requirement already satisfied: anyio in d:\\langchain\\venv\\lib\\site-packages (from httpx<1,>=0.23.0->langsmith<0.4,>=0.1.125->langchain_community) (4.9.0)\n",
      "Requirement already satisfied: httpcore==1.* in d:\\langchain\\venv\\lib\\site-packages (from httpx<1,>=0.23.0->langsmith<0.4,>=0.1.125->langchain_community) (1.0.8)\n",
      "Requirement already satisfied: h11<0.15,>=0.13 in d:\\langchain\\venv\\lib\\site-packages (from httpcore==1.*->httpx<1,>=0.23.0->langsmith<0.4,>=0.1.125->langchain_community) (0.14.0)\n",
      "Requirement already satisfied: jsonpointer>=1.9 in d:\\langchain\\venv\\lib\\site-packages (from jsonpatch<2.0,>=1.33->langchain-core<1.0.0,>=0.3.65->langchain_community) (3.0.0)\n",
      "Requirement already satisfied: annotated-types>=0.6.0 in d:\\langchain\\venv\\lib\\site-packages (from pydantic<3.0.0,>=2.7.4->langchain<1.0.0,>=0.3.25->langchain_community) (0.7.0)\n",
      "Requirement already satisfied: pydantic-core==2.33.1 in d:\\langchain\\venv\\lib\\site-packages (from pydantic<3.0.0,>=2.7.4->langchain<1.0.0,>=0.3.25->langchain_community) (2.33.1)\n",
      "Requirement already satisfied: mypy-extensions>=0.3.0 in d:\\langchain\\venv\\lib\\site-packages (from typing-inspect<1,>=0.4.0->dataclasses-json<0.7,>=0.5.7->langchain_community) (1.1.0)\n",
      "Requirement already satisfied: sniffio>=1.1 in d:\\langchain\\venv\\lib\\site-packages (from anyio->httpx<1,>=0.23.0->langsmith<0.4,>=0.1.125->langchain_community) (1.3.1)\n"
     ]
    },
    {
     "name": "stderr",
     "output_type": "stream",
     "text": [
      "\n",
      "[notice] A new release of pip is available: 25.0.1 -> 25.1.1\n",
      "[notice] To update, run: python.exe -m pip install --upgrade pip\n"
     ]
    }
   ],
   "source": [
    "!pip install langchain_community\n"
   ]
  },
  {
   "cell_type": "code",
   "execution_count": 7,
   "id": "f4899017",
   "metadata": {},
   "outputs": [
    {
     "name": "stdout",
     "output_type": "stream",
     "text": [
      "Requirement already satisfied: duckduckgo-search in d:\\langchain\\venv\\lib\\site-packages (8.0.4)\n",
      "Requirement already satisfied: click>=8.1.8 in d:\\langchain\\venv\\lib\\site-packages (from duckduckgo-search) (8.1.8)\n",
      "Requirement already satisfied: primp>=0.15.0 in d:\\langchain\\venv\\lib\\site-packages (from duckduckgo-search) (0.15.0)\n",
      "Requirement already satisfied: lxml>=5.3.0 in d:\\langchain\\venv\\lib\\site-packages (from duckduckgo-search) (5.4.0)\n",
      "Requirement already satisfied: colorama in d:\\langchain\\venv\\lib\\site-packages (from click>=8.1.8->duckduckgo-search) (0.4.6)\n"
     ]
    },
    {
     "name": "stderr",
     "output_type": "stream",
     "text": [
      "\n",
      "[notice] A new release of pip is available: 25.0.1 -> 25.1.1\n",
      "[notice] To update, run: python.exe -m pip install --upgrade pip\n"
     ]
    }
   ],
   "source": [
    "!pip install duckduckgo-search\n"
   ]
  },
  {
   "cell_type": "code",
   "execution_count": 8,
   "id": "0541f9dd",
   "metadata": {},
   "outputs": [],
   "source": [
    "from langchain_community.tools import DuckDuckGoSearchRun\n",
    "search_tool = DuckDuckGoSearchRun()\n",
    "results = search_tool.run(\"What is the capital of France\")"
   ]
  },
  {
   "cell_type": "code",
   "execution_count": 9,
   "id": "c59e1973",
   "metadata": {},
   "outputs": [
    {
     "data": {
      "text/plain": [
       "'Paris, city and capital of France, located along the Seine River, in the north-central part of the country. Paris is one of the world\\'s most important and attractive cities, famed for its gastronomy, haute couture, painting, literature, and intellectual community. Learn more about Paris in this article. Paris (French pronunciation: [paʁi] ) is the capital and largest city of France. With an estimated population of 2,048,472 residents in January 2025 in an area of more than 105 km2 (41 sq mi), Paris is the fourth-most populous city in the European Union and the 30th most densely populated city in the world in 2022. The capital of France is C) Paris. Paris is not only the capital but also the largest city in France. It is located in the north-central part of the country along the Seine River. Paris has a rich history, serving as a major center for art, fashion, and culture worldwide. Paris, being the culinary capital of France, has a gastronomic scene second to none. Here are five essential meals to enjoy while you\\'re in Paris, and each restaurant listed provides a quintessential taste of French cuisine. Croissant. A flaky, buttery French pastry is the perfect start to the day. Paris, the capital of France, is a city renowned for its rich history, stunning architecture, and vibrant culture. Known as \"La Ville Lumière\" or \"The City of Light,\" Paris has long been a global center for art, fashion, gastronomy, and culture. Its influence on the world stage is unparalleled, making it one of the most visited cities on the ...'"
      ]
     },
     "execution_count": 9,
     "metadata": {},
     "output_type": "execute_result"
    }
   ],
   "source": [
    "results"
   ]
  },
  {
   "cell_type": "code",
   "execution_count": 10,
   "id": "302c6055",
   "metadata": {},
   "outputs": [
    {
     "name": "stdout",
     "output_type": "stream",
     "text": [
      "Requirement already satisfied: langchain in d:\\langchain\\venv\\lib\\site-packages (0.3.25)\n",
      "Requirement already satisfied: tavily-python in d:\\langchain\\venv\\lib\\site-packages (0.7.6)\n",
      "Requirement already satisfied: langchain-core<1.0.0,>=0.3.58 in d:\\langchain\\venv\\lib\\site-packages (from langchain) (0.3.65)\n",
      "Requirement already satisfied: langchain-text-splitters<1.0.0,>=0.3.8 in d:\\langchain\\venv\\lib\\site-packages (from langchain) (0.3.8)\n",
      "Requirement already satisfied: langsmith<0.4,>=0.1.17 in d:\\langchain\\venv\\lib\\site-packages (from langchain) (0.3.45)\n",
      "Requirement already satisfied: pydantic<3.0.0,>=2.7.4 in d:\\langchain\\venv\\lib\\site-packages (from langchain) (2.11.3)\n",
      "Requirement already satisfied: SQLAlchemy<3,>=1.4 in d:\\langchain\\venv\\lib\\site-packages (from langchain) (2.0.40)\n",
      "Requirement already satisfied: requests<3,>=2 in d:\\langchain\\venv\\lib\\site-packages (from langchain) (2.32.3)\n",
      "Requirement already satisfied: PyYAML>=5.3 in d:\\langchain\\venv\\lib\\site-packages (from langchain) (6.0.2)\n",
      "Requirement already satisfied: tiktoken>=0.5.1 in d:\\langchain\\venv\\lib\\site-packages (from tavily-python) (0.9.0)\n",
      "Requirement already satisfied: httpx in d:\\langchain\\venv\\lib\\site-packages (from tavily-python) (0.28.1)\n",
      "Requirement already satisfied: tenacity!=8.4.0,<10.0.0,>=8.1.0 in d:\\langchain\\venv\\lib\\site-packages (from langchain-core<1.0.0,>=0.3.58->langchain) (9.1.2)\n",
      "Requirement already satisfied: jsonpatch<2.0,>=1.33 in d:\\langchain\\venv\\lib\\site-packages (from langchain-core<1.0.0,>=0.3.58->langchain) (1.33)\n",
      "Requirement already satisfied: packaging<25,>=23.2 in d:\\langchain\\venv\\lib\\site-packages (from langchain-core<1.0.0,>=0.3.58->langchain) (24.2)\n",
      "Requirement already satisfied: typing-extensions>=4.7 in d:\\langchain\\venv\\lib\\site-packages (from langchain-core<1.0.0,>=0.3.58->langchain) (4.13.2)\n",
      "Requirement already satisfied: orjson<4.0.0,>=3.9.14 in d:\\langchain\\venv\\lib\\site-packages (from langsmith<0.4,>=0.1.17->langchain) (3.10.16)\n",
      "Requirement already satisfied: requests-toolbelt<2.0.0,>=1.0.0 in d:\\langchain\\venv\\lib\\site-packages (from langsmith<0.4,>=0.1.17->langchain) (1.0.0)\n",
      "Requirement already satisfied: zstandard<0.24.0,>=0.23.0 in d:\\langchain\\venv\\lib\\site-packages (from langsmith<0.4,>=0.1.17->langchain) (0.23.0)\n",
      "Requirement already satisfied: anyio in d:\\langchain\\venv\\lib\\site-packages (from httpx->tavily-python) (4.9.0)\n",
      "Requirement already satisfied: certifi in d:\\langchain\\venv\\lib\\site-packages (from httpx->tavily-python) (2025.1.31)\n",
      "Requirement already satisfied: httpcore==1.* in d:\\langchain\\venv\\lib\\site-packages (from httpx->tavily-python) (1.0.8)\n",
      "Requirement already satisfied: idna in d:\\langchain\\venv\\lib\\site-packages (from httpx->tavily-python) (3.10)\n",
      "Requirement already satisfied: h11<0.15,>=0.13 in d:\\langchain\\venv\\lib\\site-packages (from httpcore==1.*->httpx->tavily-python) (0.14.0)\n",
      "Requirement already satisfied: annotated-types>=0.6.0 in d:\\langchain\\venv\\lib\\site-packages (from pydantic<3.0.0,>=2.7.4->langchain) (0.7.0)\n",
      "Requirement already satisfied: pydantic-core==2.33.1 in d:\\langchain\\venv\\lib\\site-packages (from pydantic<3.0.0,>=2.7.4->langchain) (2.33.1)\n",
      "Requirement already satisfied: typing-inspection>=0.4.0 in d:\\langchain\\venv\\lib\\site-packages (from pydantic<3.0.0,>=2.7.4->langchain) (0.4.0)\n",
      "Requirement already satisfied: charset-normalizer<4,>=2 in d:\\langchain\\venv\\lib\\site-packages (from requests<3,>=2->langchain) (3.4.1)\n",
      "Requirement already satisfied: urllib3<3,>=1.21.1 in d:\\langchain\\venv\\lib\\site-packages (from requests<3,>=2->langchain) (2.4.0)\n",
      "Requirement already satisfied: greenlet>=1 in d:\\langchain\\venv\\lib\\site-packages (from SQLAlchemy<3,>=1.4->langchain) (3.2.0)\n",
      "Requirement already satisfied: regex>=2022.1.18 in d:\\langchain\\venv\\lib\\site-packages (from tiktoken>=0.5.1->tavily-python) (2024.11.6)\n",
      "Requirement already satisfied: jsonpointer>=1.9 in d:\\langchain\\venv\\lib\\site-packages (from jsonpatch<2.0,>=1.33->langchain-core<1.0.0,>=0.3.58->langchain) (3.0.0)\n",
      "Requirement already satisfied: sniffio>=1.1 in d:\\langchain\\venv\\lib\\site-packages (from anyio->httpx->tavily-python) (1.3.1)\n"
     ]
    },
    {
     "name": "stderr",
     "output_type": "stream",
     "text": [
      "\n",
      "[notice] A new release of pip is available: 25.0.1 -> 25.1.1\n",
      "[notice] To update, run: python.exe -m pip install --upgrade pip\n"
     ]
    }
   ],
   "source": [
    "# Shifting to tavily because of inconsistency of DuckDuckgo\n",
    "!pip install langchain tavily-python"
   ]
  },
  {
   "cell_type": "code",
   "execution_count": 11,
   "id": "b9d1423d",
   "metadata": {},
   "outputs": [
    {
     "name": "stdout",
     "output_type": "stream",
     "text": [
      "Requirement already satisfied: langchain_tavily in d:\\langchain\\venv\\lib\\site-packages (0.2.3)\n",
      "Requirement already satisfied: aiohttp<4.0.0,>=3.11.14 in d:\\langchain\\venv\\lib\\site-packages (from langchain_tavily) (3.12.13)\n",
      "Requirement already satisfied: langchain<0.4.0,>=0.3.20 in d:\\langchain\\venv\\lib\\site-packages (from langchain_tavily) (0.3.25)\n",
      "Requirement already satisfied: langchain-core<0.4.0,>=0.3.15 in d:\\langchain\\venv\\lib\\site-packages (from langchain_tavily) (0.3.65)\n",
      "Requirement already satisfied: mypy<2.0.0,>=1.15.0 in d:\\langchain\\venv\\lib\\site-packages (from langchain_tavily) (1.16.1)\n",
      "Requirement already satisfied: requests<3.0.0,>=2.32.3 in d:\\langchain\\venv\\lib\\site-packages (from langchain_tavily) (2.32.3)\n",
      "Requirement already satisfied: aiohappyeyeballs>=2.5.0 in d:\\langchain\\venv\\lib\\site-packages (from aiohttp<4.0.0,>=3.11.14->langchain_tavily) (2.6.1)\n",
      "Requirement already satisfied: aiosignal>=1.1.2 in d:\\langchain\\venv\\lib\\site-packages (from aiohttp<4.0.0,>=3.11.14->langchain_tavily) (1.3.2)\n",
      "Requirement already satisfied: attrs>=17.3.0 in d:\\langchain\\venv\\lib\\site-packages (from aiohttp<4.0.0,>=3.11.14->langchain_tavily) (25.3.0)\n",
      "Requirement already satisfied: frozenlist>=1.1.1 in d:\\langchain\\venv\\lib\\site-packages (from aiohttp<4.0.0,>=3.11.14->langchain_tavily) (1.7.0)\n",
      "Requirement already satisfied: multidict<7.0,>=4.5 in d:\\langchain\\venv\\lib\\site-packages (from aiohttp<4.0.0,>=3.11.14->langchain_tavily) (6.5.0)\n",
      "Requirement already satisfied: propcache>=0.2.0 in d:\\langchain\\venv\\lib\\site-packages (from aiohttp<4.0.0,>=3.11.14->langchain_tavily) (0.3.2)\n",
      "Requirement already satisfied: yarl<2.0,>=1.17.0 in d:\\langchain\\venv\\lib\\site-packages (from aiohttp<4.0.0,>=3.11.14->langchain_tavily) (1.20.1)\n",
      "Requirement already satisfied: langchain-text-splitters<1.0.0,>=0.3.8 in d:\\langchain\\venv\\lib\\site-packages (from langchain<0.4.0,>=0.3.20->langchain_tavily) (0.3.8)\n",
      "Requirement already satisfied: langsmith<0.4,>=0.1.17 in d:\\langchain\\venv\\lib\\site-packages (from langchain<0.4.0,>=0.3.20->langchain_tavily) (0.3.45)\n",
      "Requirement already satisfied: pydantic<3.0.0,>=2.7.4 in d:\\langchain\\venv\\lib\\site-packages (from langchain<0.4.0,>=0.3.20->langchain_tavily) (2.11.3)\n",
      "Requirement already satisfied: SQLAlchemy<3,>=1.4 in d:\\langchain\\venv\\lib\\site-packages (from langchain<0.4.0,>=0.3.20->langchain_tavily) (2.0.40)\n",
      "Requirement already satisfied: PyYAML>=5.3 in d:\\langchain\\venv\\lib\\site-packages (from langchain<0.4.0,>=0.3.20->langchain_tavily) (6.0.2)\n",
      "Requirement already satisfied: tenacity!=8.4.0,<10.0.0,>=8.1.0 in d:\\langchain\\venv\\lib\\site-packages (from langchain-core<0.4.0,>=0.3.15->langchain_tavily) (9.1.2)\n",
      "Requirement already satisfied: jsonpatch<2.0,>=1.33 in d:\\langchain\\venv\\lib\\site-packages (from langchain-core<0.4.0,>=0.3.15->langchain_tavily) (1.33)\n",
      "Requirement already satisfied: packaging<25,>=23.2 in d:\\langchain\\venv\\lib\\site-packages (from langchain-core<0.4.0,>=0.3.15->langchain_tavily) (24.2)\n",
      "Requirement already satisfied: typing-extensions>=4.7 in d:\\langchain\\venv\\lib\\site-packages (from langchain-core<0.4.0,>=0.3.15->langchain_tavily) (4.13.2)\n",
      "Requirement already satisfied: mypy_extensions>=1.0.0 in d:\\langchain\\venv\\lib\\site-packages (from mypy<2.0.0,>=1.15.0->langchain_tavily) (1.1.0)\n",
      "Requirement already satisfied: pathspec>=0.9.0 in d:\\langchain\\venv\\lib\\site-packages (from mypy<2.0.0,>=1.15.0->langchain_tavily) (0.12.1)\n",
      "Requirement already satisfied: charset-normalizer<4,>=2 in d:\\langchain\\venv\\lib\\site-packages (from requests<3.0.0,>=2.32.3->langchain_tavily) (3.4.1)\n",
      "Requirement already satisfied: idna<4,>=2.5 in d:\\langchain\\venv\\lib\\site-packages (from requests<3.0.0,>=2.32.3->langchain_tavily) (3.10)\n",
      "Requirement already satisfied: urllib3<3,>=1.21.1 in d:\\langchain\\venv\\lib\\site-packages (from requests<3.0.0,>=2.32.3->langchain_tavily) (2.4.0)\n",
      "Requirement already satisfied: certifi>=2017.4.17 in d:\\langchain\\venv\\lib\\site-packages (from requests<3.0.0,>=2.32.3->langchain_tavily) (2025.1.31)\n",
      "Requirement already satisfied: jsonpointer>=1.9 in d:\\langchain\\venv\\lib\\site-packages (from jsonpatch<2.0,>=1.33->langchain-core<0.4.0,>=0.3.15->langchain_tavily) (3.0.0)\n",
      "Requirement already satisfied: httpx<1,>=0.23.0 in d:\\langchain\\venv\\lib\\site-packages (from langsmith<0.4,>=0.1.17->langchain<0.4.0,>=0.3.20->langchain_tavily) (0.28.1)\n",
      "Requirement already satisfied: orjson<4.0.0,>=3.9.14 in d:\\langchain\\venv\\lib\\site-packages (from langsmith<0.4,>=0.1.17->langchain<0.4.0,>=0.3.20->langchain_tavily) (3.10.16)\n",
      "Requirement already satisfied: requests-toolbelt<2.0.0,>=1.0.0 in d:\\langchain\\venv\\lib\\site-packages (from langsmith<0.4,>=0.1.17->langchain<0.4.0,>=0.3.20->langchain_tavily) (1.0.0)\n",
      "Requirement already satisfied: zstandard<0.24.0,>=0.23.0 in d:\\langchain\\venv\\lib\\site-packages (from langsmith<0.4,>=0.1.17->langchain<0.4.0,>=0.3.20->langchain_tavily) (0.23.0)\n",
      "Requirement already satisfied: annotated-types>=0.6.0 in d:\\langchain\\venv\\lib\\site-packages (from pydantic<3.0.0,>=2.7.4->langchain<0.4.0,>=0.3.20->langchain_tavily) (0.7.0)\n",
      "Requirement already satisfied: pydantic-core==2.33.1 in d:\\langchain\\venv\\lib\\site-packages (from pydantic<3.0.0,>=2.7.4->langchain<0.4.0,>=0.3.20->langchain_tavily) (2.33.1)\n",
      "Requirement already satisfied: typing-inspection>=0.4.0 in d:\\langchain\\venv\\lib\\site-packages (from pydantic<3.0.0,>=2.7.4->langchain<0.4.0,>=0.3.20->langchain_tavily) (0.4.0)\n",
      "Requirement already satisfied: greenlet>=1 in d:\\langchain\\venv\\lib\\site-packages (from SQLAlchemy<3,>=1.4->langchain<0.4.0,>=0.3.20->langchain_tavily) (3.2.0)\n",
      "Requirement already satisfied: anyio in d:\\langchain\\venv\\lib\\site-packages (from httpx<1,>=0.23.0->langsmith<0.4,>=0.1.17->langchain<0.4.0,>=0.3.20->langchain_tavily) (4.9.0)\n",
      "Requirement already satisfied: httpcore==1.* in d:\\langchain\\venv\\lib\\site-packages (from httpx<1,>=0.23.0->langsmith<0.4,>=0.1.17->langchain<0.4.0,>=0.3.20->langchain_tavily) (1.0.8)\n",
      "Requirement already satisfied: h11<0.15,>=0.13 in d:\\langchain\\venv\\lib\\site-packages (from httpcore==1.*->httpx<1,>=0.23.0->langsmith<0.4,>=0.1.17->langchain<0.4.0,>=0.3.20->langchain_tavily) (0.14.0)\n",
      "Requirement already satisfied: sniffio>=1.1 in d:\\langchain\\venv\\lib\\site-packages (from anyio->httpx<1,>=0.23.0->langsmith<0.4,>=0.1.17->langchain<0.4.0,>=0.3.20->langchain_tavily) (1.3.1)\n"
     ]
    },
    {
     "name": "stderr",
     "output_type": "stream",
     "text": [
      "\n",
      "[notice] A new release of pip is available: 25.0.1 -> 25.1.1\n",
      "[notice] To update, run: python.exe -m pip install --upgrade pip\n"
     ]
    }
   ],
   "source": [
    "!pip install langchain_tavily"
   ]
  },
  {
   "cell_type": "code",
   "execution_count": 12,
   "id": "da8faa2b",
   "metadata": {},
   "outputs": [],
   "source": [
    "tvly_api_key = os.getenv('tvly_YOUR_KEY')"
   ]
  },
  {
   "cell_type": "code",
   "execution_count": 13,
   "id": "e66bd037",
   "metadata": {},
   "outputs": [
    {
     "name": "stderr",
     "output_type": "stream",
     "text": [
      "C:\\Users\\mysel\\AppData\\Local\\Temp\\ipykernel_12188\\552577601.py:2: LangChainDeprecationWarning: The class `TavilySearchResults` was deprecated in LangChain 0.3.25 and will be removed in 1.0. An updated version of the class exists in the :class:`~langchain-tavily package and should be used instead. To use it run `pip install -U :class:`~langchain-tavily` and import as `from :class:`~langchain_tavily import TavilySearch``.\n",
      "  s_tools = TavilySearchResults(tavily_api_key=\"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\")\n"
     ]
    },
    {
     "name": "stdout",
     "output_type": "stream",
     "text": [
      "[{'title': 'Virat Kohli - Wikipedia', 'url': 'https://en.wikipedia.org/wiki/Virat_Kohli', 'content': '**Virat Kohli** (born 5 November 1988)[[a]](https://en.wikipedia.org/wiki/Virat_Kohli#cite_note-3) is an Indian [international cricketer](https://en.wikipedia.org/wiki/Cricket \"Cricket\") who plays [ODI](https://en.wikipedia.org/wiki/One_Day_International \"One Day International\") cricket for the [national team](https://en.wikipedia.org/wiki/India_national_cricket_team \"India national cricket team\") and is a former [captain](https://en.wikipedia.org/wiki/Captain_(cricket) \"Captain (cricket)\") in [...] all formats.[[3]](https://en.wikipedia.org/wiki/Virat_Kohli#cite_note-4) He is a right-handed [batsman](https://en.wikipedia.org/wiki/Batting_(cricket) \"Batting (cricket)\") and occasional right-arm medium [pace bowler](https://en.wikipedia.org/wiki/Bowling_(cricket) \"Bowling (cricket)\"). Considered one of the greatest all-format batsmen in the [history of cricket](https://en.wikipedia.org/wiki/History_of_cricket \"History of cricket\"), he is called the King, the Chase Master, and the Run Machine [...] for his skills, records and ability to lead his team to victory.[[4]](https://en.wikipedia.org/wiki/Virat_Kohli#cite_note-5) Kohli is the highest run-scorer in the [Indian Premier League](https://en.wikipedia.org/wiki/List_of_Indian_Premier_League_records_and_statistics#Individual_batting_records \"List of Indian Premier League records and statistics\"), third in [T20I](https://en.wikipedia.org/wiki/List_of_Twenty20_International_records#Batting_records \"List of Twenty20 International records\"),', 'score': 0.9443876}, {'title': 'Virat Kohli | Life, Career, Cricket, Awards, & Facts | Britannica', 'url': 'https://www.britannica.com/biography/Virat-Kohli', 'content': '**Virat Kohli** (born November 5, 1988, Delhi, India) is an Indian international cricketer considered by many as one of the greatest batsmen in the history of [the game](https://www.britannica.com/sports/cricket-sport). Kohli plays for (and previously captained) the Royal Challengers Bangalore (RCB) in the [Indian Premier League](https://www.britannica.com/topic/Indian-Premier-League) (IPL). He is also a former captain of the Indian [cricket](https://www.britannica.com/sports/cricket-sport) [...] from Twenty20 international cricket after India won the 2024 T20I World Cup. Kohli’s announcement came after he was declared Player of the Match in the final match. He retired from Test cricket a year later, having been India’s most successful captain in the format. Kohli is married to popular Bollywood actress and producer Anushka Sharma.', 'score': 0.9380391}]\n"
     ]
    }
   ],
   "source": [
    "from langchain_community.tools.tavily_search import TavilySearchResults\n",
    "s_tools = TavilySearchResults(tavily_api_key=\"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\")\n",
    "resp = s_tools.run(\"Who is Virat Kohli?\")\n",
    "print(resp)\n"
   ]
  },
  {
   "cell_type": "code",
   "execution_count": 14,
   "id": "58427abe",
   "metadata": {},
   "outputs": [],
   "source": [
    "llm = ChatGoogleGenerativeAI(model=\"gemini-2.0-flash\", google_api_key=api_key)"
   ]
  },
  {
   "cell_type": "code",
   "execution_count": 15,
   "id": "c2cd650e",
   "metadata": {},
   "outputs": [
    {
     "data": {
      "text/plain": [
       "AIMessage(content='Hi there! How can I help you today?', additional_kwargs={}, response_metadata={'prompt_feedback': {'block_reason': 0, 'safety_ratings': []}, 'finish_reason': 'STOP', 'safety_ratings': []}, id='run--7a93af94-025c-42c2-943e-bb7dabd06982-0', usage_metadata={'input_tokens': 2, 'output_tokens': 11, 'total_tokens': 13, 'input_token_details': {'cache_read': 0}})"
      ]
     },
     "execution_count": 15,
     "metadata": {},
     "output_type": "execute_result"
    }
   ],
   "source": [
    "llm.invoke('HII')"
   ]
  },
  {
   "cell_type": "code",
   "execution_count": 16,
   "id": "f0a80afd",
   "metadata": {},
   "outputs": [],
   "source": [
    "from langchain.agents import create_react_agent,AgentExecutor\n",
    "from langchain import hub"
   ]
  },
  {
   "cell_type": "code",
   "execution_count": 17,
   "id": "ff60609e",
   "metadata": {},
   "outputs": [
    {
     "name": "stderr",
     "output_type": "stream",
     "text": [
      "d:\\LangChain\\venv\\Lib\\site-packages\\langsmith\\client.py:272: LangSmithMissingAPIKeyWarning: API key must be provided when using hosted LangSmith API\n",
      "  warnings.warn(\n"
     ]
    }
   ],
   "source": [
    "prompt = hub.pull(\"hwchase17/react\")\n",
    "# react - reasoning + action"
   ]
  },
  {
   "cell_type": "code",
   "execution_count": null,
   "id": "c59d2b7d",
   "metadata": {},
   "outputs": [],
   "source": [
    "# ✅ Step 1: Imports\n",
    "from langchain.agents import AgentExecutor, create_react_agent\n",
    "from langchain_community.tools.tavily_search import TavilySearchResults\n",
    "from langchain.prompts import PromptTemplate\n",
    "\n",
    "# # ✅ Step 3: Create ReAct Agent\n",
    "# agent = create_react_agent(\n",
    "#     llm=llm,\n",
    "#     tools=[s_tools],\n",
    "#     prompt=prompt\n",
    "# )\n"
   ]
  },
  {
   "cell_type": "code",
   "execution_count": null,
   "id": "d7ecebee",
   "metadata": {},
   "outputs": [],
   "source": [
    "\n",
    "# # ✅ Step 4: Wrap it with AgentExecutor\n",
    "# agent_executor = AgentExecutor(\n",
    "#     agent=agent,\n",
    "#     tools=[s_tools],\n",
    "#     verbose=True,\n",
    "#     max_iterations=2\n",
    "# )\n"
   ]
  },
  {
   "cell_type": "code",
   "execution_count": null,
   "id": "febe3b5f",
   "metadata": {},
   "outputs": [
    {
     "name": "stdout",
     "output_type": "stream",
     "text": [
      "\n",
      "\n",
      "\u001b[1m> Entering new AgentExecutor chain...\u001b[0m\n",
      "\u001b[32;1m\u001b[1;3mI need to find information about the upcoming IPL 2025 to provide a preview. I will start by searching for general information and predictions about the tournament.\n",
      "Action: tavily_search_results_json\n",
      "Action Input: \"IPL 2025 preview predictions\"\u001b[0m\u001b[36;1m\u001b[1;3m[{'title': 'What are your early predictions for the IPL 2025 auction ... - Quora', 'url': 'https://www.quora.com/What-are-your-early-predictions-for-the-IPL-2025-auction-Which-players-will-be-in-high-demand', 'content': 'What is your prediction team championship in the IPL 2025? My predictions are: Top four teams will be: DC, GT, PBKS and either LSG or RCB.', 'score': 0.81630427}, {'title': \"IPL 2025 predictions: Most sixes? Champions? Is this MS Dhoni's ...\", 'url': 'https://www.skysports.com/cricket/news/12028/13333074/ipl-2025-predictions-most-sixes-champions-is-this-ms-dhonis-last-year-matt-kabir-floyd-makes-his-picks', 'content': \"![Sunrisers Hyderabad, IPL, Indian Premier League (Associated Press)](https://e0.365dm.com/25/03/768x432/skysports-ipl-indian-premier-league_6863045.jpg?20250321094546)\\n\\nGujarat bought well at the auction and look to have a strong bowling attack and top three. If pushed, though, I'll go with **Sunrisers** to go one better than last year and lift the trophy. [...] The bowling attack has been revamped and the batting has a similarly frightening look to last season. If they come bottom then this will be the last time I try to predict the winner!\\n\\n**Watch all 74 matches from the 2025 IPL live on *Sky Sports Cricket*, starting with the opener between Kolkata Knight Riders and Royal Challengers Bengaluru on Saturday March 22 (1.50pm on air, 2pm first ball) and concluding with the final on Sunday May 25.**\\n\\n## Around Sky [...] Half the teams have new captains and there have been some big moves, including Rishabh Pant bought by Lucknow Super Giants for the highest fee ever (£2.5m) and Jos Buttler to Gujarat Titans.\\n\\nPunjab have nicked Kolkata's title-winning captain Shreyas Iyer and Mitchell Starc will now call Delhi home.\", 'score': 0.8051581}, {'title': 'IPL 2025: Team Previews and Predictions - Sixes Cricket Blog', 'url': 'https://blog.sixescricket.com/ipl-team-previews-and-predictions/', 'content': 'IPL 2025: Team Previews and Predictions · 1. Chennai Super Kings (CSK) · 2. Rajasthan Royals (RR) · 3. Mumbai Indians (MI) · 4. Kolkata Knight', 'score': 0.80405265}, {'title': \"ChatGPT's prediction for IPL 2025 Playoffs! - Facebook\", 'url': 'https://www.facebook.com/realsportsgully/posts/chatgpts-prediction-for-ipl-2025-playoffs/1115261237287498/', 'content': \"- *Punjab Kings*: With odds of 6.00, they're looking to break their title drought. - *Royal Challengers Bengaluru*: With odds of 6.50, they're\", 'score': 0.79769903}, {'title': 'Predicting the Top 4 Teams at the End of the 2025 IPL League Stage', 'url': 'https://www.reddit.com/r/ipl/comments/1k7jkq0/predicting_the_top_4_teams_at_the_end_of_the_2025/', 'content': \"35 votes, 136 comments. Here's my prediction: > 1. Delhi Capitals > 2. Gujarat Titans > 3. Mumbai Indians > 4. Lucknow Super Giants Note:\", 'score': 0.7898345}]\u001b[0m\u001b[32;1m\u001b[1;3mBased on the search results, here's a 5-point preview of IPL 2025, keeping in mind that these are speculative predictions:\n",
      "\n",
      "*   **Possible Team Changes:** Expect significant changes in team compositions due to the mega-auction. Keep an eye on player retentions and new strategies teams adopt.\n",
      "*   **Key Player Movements:** Some reports suggest potential big player moves, such as Rishabh Pant to Lucknow Super Giants and Jos Buttler to Gujarat Titans. Also, Shreyas Iyer might be heading to Punjab.\n",
      "*   **Potential Top Teams:** Early predictions suggest Delhi Capitals, Gujarat Titans, Mumbai Indians, and Lucknow Super Giants as potential top contenders.\n",
      "*   **Sky Sports Coverage:** If you're in the UK, Sky Sports Cricket is expected to broadcast all 74 matches. The tournament is rumored to start on March 22nd with Kolkata Knight Riders against Royal Challengers Bengaluru, and the final on May 25th.\n",
      "*   **Sunrisers Hyderabad Dark Horse:** Some analysts are tipping Sunrisers Hyderabad to potentially win the tournament.\n",
      "Final Answer: Here's a 5-point preview of IPL 2025:\n",
      "\n",
      "*   Expect significant team changes due to the mega-auction.\n",
      "*   Keep an eye on potential player movements like Rishabh Pant to LSG or Jos Buttler to GT.\n",
      "*   Early predictions suggest DC, GT, MI, and LSG as potential top teams.\n",
      "*   Sky Sports Cricket is expected to broadcast all 74 matches in the UK, starting March 22nd.\n",
      "*   Some analysts are tipping Sunrisers Hyderabad as a potential winner.\u001b[0m\n",
      "\n",
      "\u001b[1m> Finished chain.\u001b[0m\n",
      "{'input': 'Give a 5 pointer preview for ipl 2025', 'output': \"Here's a 5-point preview of IPL 2025:\\n\\n*   Expect significant team changes due to the mega-auction.\\n*   Keep an eye on potential player movements like Rishabh Pant to LSG or Jos Buttler to GT.\\n*   Early predictions suggest DC, GT, MI, and LSG as potential top teams.\\n*   Sky Sports Cricket is expected to broadcast all 74 matches in the UK, starting March 22nd.\\n*   Some analysts are tipping Sunrisers Hyderabad as a potential winner.\"}\n"
     ]
    }
   ],
   "source": [
    "\n",
    "# ✅ Step 5: Invoke\n",
    "# response = agent_executor.invoke({\"input\": \"Give a 5 pointer preview for ipl 2025\"})\n",
    "# print(response)"
   ]
  },
  {
   "cell_type": "code",
   "execution_count": 21,
   "id": "9706746b",
   "metadata": {},
   "outputs": [
    {
     "data": {
      "text/plain": [
       "\"Here's a 5-point preview of IPL 2025:\\n\\n*   Expect significant team changes due to the mega-auction.\\n*   Keep an eye on potential player movements like Rishabh Pant to LSG or Jos Buttler to GT.\\n*   Early predictions suggest DC, GT, MI, and LSG as potential top teams.\\n*   Sky Sports Cricket is expected to broadcast all 74 matches in the UK, starting March 22nd.\\n*   Some analysts are tipping Sunrisers Hyderabad as a potential winner.\""
      ]
     },
     "execution_count": 21,
     "metadata": {},
     "output_type": "execute_result"
    }
   ],
   "source": [
    "# print(response.get(\"output\"))\n",
    "response['output']"
   ]
  },
  {
   "cell_type": "code",
   "execution_count": 37,
   "id": "33ac2539",
   "metadata": {},
   "outputs": [],
   "source": [
    "import requests\n",
    "\n",
    "def get_weather_data(city: str) -> str:\n",
    "    \"\"\"\n",
    "    Takes a city name as input and returns a user-friendly string of current weather data.\n",
    "    \"\"\"\n",
    "    url = f\"https://api.weatherstack.com/current?access_key=c0cd5f5ae43b8202ebc3b8da46111935&query={city}\"\n",
    "    try:\n",
    "        response = requests.get(url)\n",
    "        data = response.json()\n",
    "\n",
    "        if \"error\" in data:\n",
    "            return f\"Error: {data['error']['info']}\"\n",
    "\n",
    "        location = data.get(\"location\", {})\n",
    "        current = data.get(\"current\", {})\n",
    "        return (\n",
    "            f\"Weather in {location.get('name')}, {location.get('country')}:\\n\"\n",
    "            f\"Temperature: {current.get('temperature')}°C\\n\"\n",
    "            f\"Weather: {current.get('weather_descriptions')[0]}\\n\"\n",
    "            f\"Humidity: {current.get('humidity')}%\\n\"\n",
    "            f\"Wind Speed: {current.get('wind_speed')} km/h\"\n",
    "        )\n",
    "    except Exception as e:\n",
    "        return f\"An error occurred while fetching weather data: {str(e)}\"\n"
   ]
  },
  {
   "cell_type": "code",
   "execution_count": 38,
   "id": "4b5d68b6",
   "metadata": {},
   "outputs": [],
   "source": [
    "from langchain_core.tools import Tool\n",
    "\n",
    "weather_tool = Tool(\n",
    "    name=\"GetWeather\",\n",
    "    func=get_weather_data,\n",
    "    description=\"Use this tool to get current weather information for a given city. Input should be the city name.\"\n",
    ")\n"
   ]
  },
  {
   "cell_type": "code",
   "execution_count": 23,
   "id": "b25e0f43",
   "metadata": {},
   "outputs": [
    {
     "data": {
      "text/plain": [
       "ChatGoogleGenerativeAI(model='models/gemini-2.0-flash', google_api_key=SecretStr('**********'), client=<google.ai.generativelanguage_v1beta.services.generative_service.client.GenerativeServiceClient object at 0x0000020815803AD0>, default_metadata=())"
      ]
     },
     "execution_count": 23,
     "metadata": {},
     "output_type": "execute_result"
    }
   ],
   "source": [
    "llm"
   ]
  },
  {
   "cell_type": "code",
   "execution_count": 24,
   "id": "5b0eea33",
   "metadata": {},
   "outputs": [],
   "source": [
    "from langchain.agents import create_react_agent,AgentExecutor\n",
    "from langchain import hub"
   ]
  },
  {
   "cell_type": "code",
   "execution_count": 34,
   "id": "4336055e",
   "metadata": {},
   "outputs": [],
   "source": [
    "prompt\n",
    "all_tools = [s_tools,get_weather_data]"
   ]
  },
  {
   "cell_type": "code",
   "execution_count": 39,
   "id": "3c5e9cba",
   "metadata": {},
   "outputs": [],
   "source": [
    "agent = create_react_agent(\n",
    "    llm=llm,\n",
    "    tools=[s_tools, weather_tool],\n",
    "    prompt=prompt\n",
    ")"
   ]
  },
  {
   "cell_type": "code",
   "execution_count": null,
   "id": "d69b11b2",
   "metadata": {},
   "outputs": [],
   "source": [
    "agent_executor = AgentExecutor(\n",
    "    agent=agent,\n",
    "    tools=[s_tools, weather_tool],\n",
    "    verbose=True\n",
    ")"
   ]
  },
  {
   "cell_type": "code",
   "execution_count": 45,
   "id": "c876c0f6",
   "metadata": {},
   "outputs": [
    {
     "name": "stdout",
     "output_type": "stream",
     "text": [
      "\n",
      "\n",
      "\u001b[1m> Entering new AgentExecutor chain...\u001b[0m\n",
      "\u001b[32;1m\u001b[1;3mI need to find out the capital of Jharkhand and then get the weather information for that city.\n",
      "Action: tavily_search_results_json\n",
      "Action Input: \"capital of Jharkhand\"\u001b[0m\u001b[36;1m\u001b[1;3m[{'title': 'Capital of Jharkhand - Byjus', 'url': 'https://byjus.com/social-science/capital-of-jharkhand/', 'content': 'The capital of Jharkhand is Ranchi. Jamshedpur is considered to be the industrial capital of Jharkhand.', 'score': 0.92763275}, {'title': 'About District | DISTRICT RANCHI, GOVERMENT OF JHARKHAND', 'url': 'https://ranchi.nic.in/about-district/', 'content': 'Ranchi, in its modern form, is the capital city of the Indian state of Jharkhand. The city has a moderate climate and was the summer capital of Bihar until', 'score': 0.8886914}, {'title': '[Solved] ______ is the capital of Jharkhand - Testbook', 'url': 'https://testbook.com/question-answer/_______-is-the-capital-of-jharkhand--5fd0a9a1e4568da4d6d454fa', 'content': '![Testbook Logo](https://testbook.com/question-answer/components/assets/images/logo-blue.svg)\\n\\n## Question\\n\\n# \\\\_\\\\_\\\\_\\\\_\\\\_\\\\_\\\\_ is the capital of Jharkhand\\n\\n## Answer (Detailed Solution Below)\\n\\n![](https://cdn.testbook.com/qb_resources/qna-banner-illustration.svg)\\n\\n## Detailed Solution\\n\\nThe Correct Answer is\\xa0**Ranchi**.\\n\\n![](//cdn.testbook.com/resources/lms_creative_elements/important-point-image.png)**Important Points** [...] -> Prepare for the exam with\\xa0[RRB Group D Previous Year Papers](https://testbook.com/rrb-group-d/previous-year-papers).\\n\\n![Live Masterclass](https://cdn.testbook.com/qb_resources/daily-live-master-classes.svg)\\n![Practice Question Bank](https://cdn.testbook.com/qb_resources/practice-question-bank.svg)\\n![Mock Tests & Quizzes](https://cdn.testbook.com/qb_resources/mock-tests-quizzes.svg)\\n\\n## More State Government Questions\\n\\n## More Polity Questions [...] ![super-logo](https://cdn.testbook.com/qb_resources/super_logo.png)\\n![Exam-Logo](//cdn.testbook.com/resources/productionimages/Railways_All_1594842123.png)\\n![Exam-Logo](//cdn.testbook.com/resources/productionimages/ICMR%20%281%29_All_1606876548.png)\\n\\n[RRB Group D Important Links](https://testbook.com/rrb-group-d)\\n\\n## More General Knowledge Questions\\n\\n![Free Live Test](https://cdn.testbook.com/qb_resources/free-access.svg)', 'score': 0.8729662}, {'title': 'Ranchi | Tourism, Wildlife & Temples - Britannica', 'url': 'https://www.britannica.com/place/Ranchi', 'content': '**Ranchi**, city, capital of [Jharkhand](https://www.britannica.com/place/Jharkhand) state, northeastern [India](https://www.britannica.com/place/India). It lies along the [Subarnarekha River](https://www.britannica.com/place/Subarnarekha-River). Ranchi was [constituted](https://www.merriam-webster.com/dictionary/constituted) a municipality in 1869.', 'score': 0.85567063}, {'title': 'Ranchi - Wikipedia', 'url': 'https://en.wikipedia.org/wiki/Ranchi', 'content': '**Ranchi** ([/ˈrɑːntʃi/](/wiki/Help:IPA/English \"Help:IPA/English\") [ⓘ](/wiki/File:Ranchi.ogg \"File:Ranchi.ogg\"); Hindi: [[ˈrãːtʃiː]](/wiki/Help:IPA/Hindi_and_Urdu \"Help:IPA/Hindi and Urdu\")) is the [capital city](/wiki/List_of_state_and_union_territory_capitals_in_India \"List of state and union territory capitals in India\") and also the largest district by population of the [Indian](/wiki/India \"India\") state of [Jharkhand](/wiki/Jharkhand \"Jharkhand\"). Ranchi was the centre of the Jharkhand [...] up.[[30]](#cite_note-:3-30) The succeeding years saw Ranchi becoming the headquarters for the [Steel Authority of India Ltd](/wiki/Steel_Authority_of_India \"Steel Authority of India\") and [Central Coalfields Ltd](/wiki/Central_Coalfields \"Central Coalfields\").[[24]](#cite_note-:4-24) The city remained the summer capital of Bihar till the creation of Jharkhand in November 2000, when Ranchi became the capital of the new state.[[36]](#cite_note-36) [...] Jharkhand.[[49]](#cite_note-49)', 'score': 0.83742094}]\u001b[0m\u001b[32;1m\u001b[1;3mThe capital of Jharkhand is Ranchi. Now, let's get the weather information for Ranchi.\n",
      "Action: GetWeather\n",
      "Action Input: Ranchi\u001b[0m\u001b[33;1m\u001b[1;3mWeather in Ranchi, India:\n",
      "Temperature: 23°C\n",
      "Weather: Rain\n",
      "Humidity: 100%\n",
      "Wind Speed: 19 km/h\u001b[0m\u001b[32;1m\u001b[1;3mI now know the final answer\n",
      "Final Answer: The capital of Jharkhand is Ranchi. The current weather in Ranchi is rain with a temperature of 23°C, humidity of 100%, and wind speed of 19 km/h.\u001b[0m\n",
      "\n",
      "\u001b[1m> Finished chain.\u001b[0m\n",
      "The capital of Jharkhand is Ranchi. The current weather in Ranchi is rain with a temperature of 23°C, humidity of 100%, and wind speed of 19 km/h.\n"
     ]
    }
   ],
   "source": [
    "response = agent_executor.invoke({\"input\": \"What is the capital of Jharkhand and what is current weather update there?\"})\n",
    "print(response['output'])"
   ]
  },
  {
   "cell_type": "code",
   "execution_count": null,
   "id": "b59beb2a",
   "metadata": {},
   "outputs": [],
   "source": []
  }
 ],
 "metadata": {
  "kernelspec": {
   "display_name": "venv",
   "language": "python",
   "name": "python3"
  },
  "language_info": {
   "codemirror_mode": {
    "name": "ipython",
    "version": 3
   },
   "file_extension": ".py",
   "mimetype": "text/x-python",
   "name": "python",
   "nbconvert_exporter": "python",
   "pygments_lexer": "ipython3",
   "version": "3.12.10"
  }
 },
 "nbformat": 4,
 "nbformat_minor": 5
}
